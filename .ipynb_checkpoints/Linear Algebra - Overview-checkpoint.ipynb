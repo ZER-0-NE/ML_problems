{
 "cells": [
  {
   "cell_type": "code",
   "execution_count": 5,
   "metadata": {},
   "outputs": [],
   "source": [
    "from IPython.display import SVG, display"
   ]
  },
  {
   "cell_type": "markdown",
   "metadata": {},
   "source": [
    "# Types of vectors\n",
    "\n",
    "Vectors come in three flavors: (1) geometric vectors, (2) polynomials, (3) and elements of Rn space.\n",
    "\n",
    "## Geometric vectors\n",
    "Geometric vectors are oriented segments. These are the kind of vectors you probably learned about in high-school \n",
    "physics and geometry. Many linear algebra concepts come from the geometric point of view of vectors: space, \n",
    "plane, distance, etc.\n",
    "\n",
    "Fig. 2: Geometric vectors\n"
   ]
  },
  {
   "cell_type": "code",
   "execution_count": 8,
   "metadata": {},
   "outputs": [
    {
     "data": {
      "image/svg+xml": [
       "<svg height=\"88mm\" id=\"svg8\" inkscape:version=\"0.92.3 (2405546, 2018-03-11)\" sodipodi:docname=\"b-geometric-vectors.svg\" version=\"1.1\" viewBox=\"0 0 89 88\" width=\"89mm\" xmlns=\"http://www.w3.org/2000/svg\" xmlns:cc=\"http://creativecommons.org/ns#\" xmlns:dc=\"http://purl.org/dc/elements/1.1/\" xmlns:inkscape=\"http://www.inkscape.org/namespaces/inkscape\" xmlns:rdf=\"http://www.w3.org/1999/02/22-rdf-syntax-ns#\" xmlns:sodipodi=\"http://sodipodi.sourceforge.net/DTD/sodipodi-0.dtd\" xmlns:svg=\"http://www.w3.org/2000/svg\">\n",
       "  <sodipodi:namedview bordercolor=\"#666666\" borderopacity=\"1.0\" id=\"base\" inkscape:current-layer=\"layer1\" inkscape:cx=\"202.11697\" inkscape:cy=\"242.37959\" inkscape:document-units=\"mm\" inkscape:pageopacity=\"1\" inkscape:pageshadow=\"2\" inkscape:window-height=\"768\" inkscape:window-maximized=\"1\" inkscape:window-width=\"1600\" inkscape:window-x=\"0\" inkscape:window-y=\"37\" inkscape:zoom=\"5.6\" pagecolor=\"#000000\" showgrid=\"false\"/>\n",
       "  <defs id=\"defs2\">\n",
       "    <marker id=\"marker1645\" inkscape:isstock=\"true\" inkscape:stockid=\"Arrow2Mend\" orient=\"auto\" refX=\"0\" refY=\"0\" style=\"overflow:visible\">\n",
       "      <path d=\"M 8.7185878,4.0337352 -2.2072895,0.01601326 8.7185884,-4.0017078 c -1.7454984,2.3720609 -1.7354408,5.6174519 -6e-7,8.035443 z\" id=\"path1643\" inkscape:connector-curvature=\"0\" style=\"fill:#00ff00;fill-opacity:1;fill-rule:evenodd;stroke:#00ff00;stroke-width:0.625;stroke-linejoin:round;stroke-opacity:1\" transform=\"scale(-0.6)\"/>\n",
       "    </marker>\n",
       "    <marker id=\"marker1218\" inkscape:isstock=\"true\" inkscape:stockid=\"Arrow2Mend\" orient=\"auto\" refX=\"0\" refY=\"0\" style=\"overflow:visible\">\n",
       "      <path d=\"M 8.7185878,4.0337352 -2.2072895,0.01601326 8.7185884,-4.0017078 c -1.7454984,2.3720609 -1.7354408,5.6174519 -6e-7,8.035443 z\" id=\"path1216\" inkscape:connector-curvature=\"0\" style=\"fill:#00ffff;fill-opacity:1;fill-rule:evenodd;stroke:#00ffff;stroke-width:0.625;stroke-linejoin:round;stroke-opacity:1\" transform=\"scale(-0.6)\"/>\n",
       "    </marker>\n",
       "    <marker id=\"marker1184\" inkscape:isstock=\"true\" inkscape:stockid=\"Arrow2Mend\" orient=\"auto\" refX=\"0\" refY=\"0\" style=\"overflow:visible\">\n",
       "      <path d=\"M 8.7185878,4.0337352 -2.2072895,0.01601326 8.7185884,-4.0017078 c -1.7454984,2.3720609 -1.7354408,5.6174519 -6e-7,8.035443 z\" id=\"path1182\" inkscape:connector-curvature=\"0\" style=\"fill:#ff00ff;fill-opacity:1;fill-rule:evenodd;stroke:#ff00ff;stroke-width:0.625;stroke-linejoin:round;stroke-opacity:1\" transform=\"scale(-0.6)\"/>\n",
       "    </marker>\n",
       "    <marker id=\"marker1116\" inkscape:isstock=\"true\" inkscape:stockid=\"Arrow2Mend\" orient=\"auto\" refX=\"0\" refY=\"0\" style=\"overflow:visible\">\n",
       "      <path d=\"M 8.7185878,4.0337352 -2.2072895,0.01601326 8.7185884,-4.0017078 c -1.7454984,2.3720609 -1.7354408,5.6174519 -6e-7,8.035443 z\" id=\"path1114\" inkscape:connector-curvature=\"0\" style=\"fill:#ffffff;fill-opacity:1;fill-rule:evenodd;stroke:#ffffff;stroke-width:0.625;stroke-linejoin:round;stroke-opacity:1\" transform=\"scale(-0.6)\"/>\n",
       "    </marker>\n",
       "    <marker id=\"Arrow2Mend\" inkscape:isstock=\"true\" inkscape:stockid=\"Arrow2Mend\" orient=\"auto\" refX=\"0\" refY=\"0\" style=\"overflow:visible\">\n",
       "      <path d=\"M 8.7185878,4.0337352 -2.2072895,0.01601326 8.7185884,-4.0017078 c -1.7454984,2.3720609 -1.7354408,5.6174519 -6e-7,8.035443 z\" id=\"path859\" inkscape:connector-curvature=\"0\" style=\"fill:#ffffff;fill-opacity:1;fill-rule:evenodd;stroke:#ffffff;stroke-width:0.625;stroke-linejoin:round;stroke-opacity:1\" transform=\"scale(-0.6)\"/>\n",
       "    </marker>\n",
       "    <marker id=\"marker1184-6\" inkscape:isstock=\"true\" inkscape:stockid=\"Arrow2Mend\" orient=\"auto\" refX=\"0\" refY=\"0\" style=\"overflow:visible\">\n",
       "      <path d=\"M 8.7185878,4.0337352 -2.2072895,0.01601326 8.7185884,-4.0017078 c -1.7454984,2.3720609 -1.7354408,5.6174519 -6e-7,8.035443 z\" id=\"path1182-7\" inkscape:connector-curvature=\"0\" style=\"fill:#ff00ff;fill-opacity:1;fill-rule:evenodd;stroke:#ff00ff;stroke-width:0.625;stroke-linejoin:round;stroke-opacity:1\" transform=\"scale(-0.6)\"/>\n",
       "    </marker>\n",
       "  </defs>\n",
       "  <metadata id=\"metadata5\">\n",
       "    <rdf:RDF>\n",
       "      <cc:Work rdf:about=\"\">\n",
       "        <dc:format>image/svg+xml</dc:format>\n",
       "        <dc:type rdf:resource=\"http://purl.org/dc/dcmitype/StillImage\"/>\n",
       "        <dc:title/>\n",
       "      </cc:Work>\n",
       "    </rdf:RDF>\n",
       "  </metadata>\n",
       "  <g id=\"layer1\" inkscape:groupmode=\"layer\" inkscape:label=\"Layer 1\" transform=\"translate(0,-209)\">\n",
       "    <path d=\"m 5.345391,293.5255 v -80\" id=\"path10\" inkscape:connector-curvature=\"0\" style=\"fill:#ffffff;stroke:#ffffff;stroke-width:0.5;stroke-linecap:butt;stroke-linejoin:miter;stroke-miterlimit:4;stroke-dasharray:none;stroke-opacity:1;marker-end:url(#Arrow2Mend)\"/>\n",
       "    <path d=\"M 5.495656,293.37548 H 85.495668\" id=\"path10-3\" inkscape:connector-curvature=\"0\" style=\"fill:#ffffff;stroke:#ffffff;stroke-width:0.5;stroke-linecap:butt;stroke-linejoin:miter;stroke-miterlimit:4;stroke-dasharray:none;stroke-opacity:1;marker-end:url(#marker1116)\"/>\n",
       "    <path d=\"M 5.495656,293.37548 60.269278,265.8631\" id=\"path1178\" inkscape:connector-curvature=\"0\" style=\"fill:#ff00ff;stroke:#ff00ff;stroke-width:0.40000001;stroke-linecap:butt;stroke-linejoin:miter;stroke-miterlimit:4;stroke-dasharray:none;stroke-opacity:1;marker-end:url(#marker1184)\"/>\n",
       "    <path d=\"m 5.495656,293.37548 5.195125,-30.71961\" id=\"path1180\" inkscape:connector-curvature=\"0\" style=\"fill:#00ffff;stroke:#00ffff;stroke-width:0.40000001;stroke-linecap:butt;stroke-linejoin:miter;stroke-miterlimit:4;stroke-dasharray:none;stroke-opacity:1;marker-end:url(#marker1218)\"/>\n",
       "    <path d=\"M 10.690781,262.1267 65.464403,234.61432\" id=\"path1178-5\" inkscape:connector-curvature=\"0\" style=\"fill:#ff00ff;stroke:#ff00ff;stroke-width:0.40000001;stroke-linecap:butt;stroke-linejoin:miter;stroke-miterlimit:4;stroke-dasharray:none;stroke-opacity:1;marker-end:url(#marker1184-6)\"/>\n",
       "    <path d=\"M 5.495656,293.37548 65.464403,234.61432\" id=\"path1623\" inkscape:connector-curvature=\"0\" sodipodi:nodetypes=\"cc\" style=\"fill:#00ff00;stroke:#00ff00;stroke-width:0.40000001;stroke-linecap:butt;stroke-linejoin:miter;stroke-miterlimit:4;stroke-dasharray:none;stroke-opacity:1;marker-end:url(#marker1645)\"/>\n",
       "    <g id=\"g1833\" style=\"fill:#ff00ff\" transform=\"matrix(0.59523807,0,0,0.59523807,-123.63579,194.10641)\">\n",
       "      <g font-size-adjust=\"none\" font-stretch=\"normal\" font-style=\"normal\" font-variant=\"normal\" font-weight=\"normal\" id=\"content\" letter-spacing=\"normal\" stroke-miterlimit=\"10.433\" style=\"font-style:normal;font-variant:normal;font-weight:normal;font-stretch:normal;letter-spacing:normal;word-spacing:normal;text-anchor:start;fill:#ff00ff;fill-opacity:1;fill-rule:evenodd;stroke:#000000;stroke-linecap:butt;stroke-linejoin:miter;stroke-miterlimit:10.43299961;stroke-dasharray:none;stroke-dashoffset:0;stroke-opacity:1\" transform=\"matrix(0.3,0,0,-0.3,-52.5,222.75)\" word-spacing=\"normal\" xml:space=\"preserve\"><path d=\"m 1242.2,358.69 5.8,6.49 c 0.7,0.7 1,1.04 5.1,1.04 v 2.35 c -1.7,-0.11 -4.3,-0.16 -4.6,-0.16 -1.2,0 -3.7,0.11 -5.1,0.16 v -2.35 c 0.7,0 1.3,-0.11 1.9,-0.45 -0.2,-0.3 -0.2,-0.39 -0.4,-0.59 l -4.2,-4.69 -4.9,5.73 h 2 v 2.35 c -1.3,-0.05 -4.4,-0.16 -6,-0.16 -1.6,0 -3.9,0.11 -5.5,0.16 v -2.35 h 3.5 l 7.8,-9.17 -6.5,-7.33 c -0.9,-0.93 -2.7,-0.93 -5,-0.93 v -2.35 c 1.7,0.1 4.3,0.16 4.5,0.16 1.3,0 4.2,-0.11 5.2,-0.16 v 2.35 c -0.9,0 -1.9,0.25 -1.9,0.54 0,0.05 0,0.1 0.4,0.5 l 4.8,5.42 5.5,-6.46 h -1.9 v -2.35 c 1.2,0.05 4.3,0.16 5.9,0.16 1.6,0 3.9,-0.11 5.5,-0.16 v 2.35 h -3.5 z\" id=\"path1830\" inkscape:connector-curvature=\"0\" style=\"fill:#ff00ff;stroke-width:0\"/></g>    </g>\n",
       "    <g id=\"g1889\" style=\"fill:#00ffff\" transform=\"matrix(0.59952036,0,0,0.59952036,-178.90157,184.74719)\">\n",
       "      <g font-size-adjust=\"none\" font-stretch=\"normal\" font-style=\"normal\" font-variant=\"normal\" font-weight=\"normal\" id=\"g1887\" letter-spacing=\"normal\" stroke-miterlimit=\"10.433\" style=\"font-style:normal;font-variant:normal;font-weight:normal;font-stretch:normal;letter-spacing:normal;word-spacing:normal;text-anchor:start;fill:#00ffff;fill-opacity:1;fill-rule:evenodd;stroke:#000000;stroke-linecap:butt;stroke-linejoin:miter;stroke-miterlimit:10.43299961;stroke-dasharray:none;stroke-dashoffset:0;stroke-opacity:1\" transform=\"matrix(0.3,0,0,-0.3,-52.5,222.75)\" word-spacing=\"normal\" xml:space=\"preserve\"><path d=\"m 1249.8,365.18 0.1,0.12 v 0.12 l 0.1,0.06 v 0.05 0.06 l 0.1,0.05 v 0.04 l 0.1,0.05 v 0.04 l 0.1,0.05 v 0.04 l 0.1,0.03 0.1,0.04 0.1,0.03 0.1,0.03 0.1,0.03 0.1,0.03 0.1,0.03 0.1,0.02 0.1,0.01 0.1,0.01 0.1,0.01 v 0.01 l 0.1,0.01 0.1,0.01 0.1,0.01 h 0.1 l 0.1,0.01 0.1,0.01 h 0.1 l 0.1,0.01 h 0.1 l 0.1,0.01 h 0.1 0.2 l 0.1,0.01 h 0.1 0.2 0.1 0.1 0.2 v 2.35 c -1.2,-0.11 -2.7,-0.16 -3.9,-0.16 -1.3,0 -3.5,0.11 -4.6,0.16 v -2.35 c 0.1,0 2.4,0 2.4,-0.59 0,-0.06 -0.2,-0.55 -0.3,-0.61 l -5.7,-12.25 -6.3,13.45 h 2.7 v 2.35 c -1.7,-0.11 -6.2,-0.16 -6.2,-0.16 -1.4,0 -3.7,0.11 -5.7,0.16 v -2.35 h 3.2 l 9.3,-19.78 -1.1,-2.39 c -1.1,-2.39 -2.7,-5.78 -6.3,-5.78 -0.7,0 -0.8,0.05 -1.2,0.2 0.5,0.21 1.6,0.89 1.6,2.64 0,1.64 -1.2,2.85 -2.9,2.85 -1.3,0 -2.8,-0.96 -2.8,-2.89 0,-2.55 2.3,-4.6 5.3,-4.6 3.9,0 6.8,3.1 8.1,5.94 z\" id=\"path1885\" inkscape:connector-curvature=\"0\" style=\"fill:#00ffff;stroke-width:0\"/></g>    </g>\n",
       "    <g id=\"g2178\" transform=\"matrix(0.63420427,0,0,0.63420427,-152.78637,156.21085)\">\n",
       "      <g font-size-adjust=\"none\" font-stretch=\"normal\" font-style=\"normal\" font-variant=\"normal\" font-weight=\"normal\" id=\"g2176\" letter-spacing=\"normal\" stroke-miterlimit=\"10.433\" style=\"font-style:normal;font-variant:normal;font-weight:normal;font-stretch:normal;letter-spacing:normal;word-spacing:normal;text-anchor:start;fill:none;fill-opacity:1;fill-rule:evenodd;stroke:#000000;stroke-linecap:butt;stroke-linejoin:miter;stroke-miterlimit:10.43299961;stroke-dasharray:none;stroke-dashoffset:0;stroke-opacity:1\" transform=\"matrix(0.3,0,0,-0.3,-52.5,222.75)\" word-spacing=\"normal\" xml:space=\"preserve\"><path d=\"m 1158.4,365.18 v 0.12 l 0.1,0.12 v 0.06 l 0.1,0.05 v 0.06 0.05 l 0.1,0.04 v 0.05 l 0.1,0.04 v 0.05 l 0.1,0.04 0.1,0.03 0.1,0.04 v 0.03 l 0.1,0.03 0.1,0.03 0.2,0.03 0.1,0.03 0.1,0.02 0.1,0.01 0.1,0.01 v 0.01 l 0.1,0.01 0.1,0.01 0.1,0.01 0.1,0.01 h 0.1 l 0.1,0.01 0.1,0.01 h 0.1 l 0.1,0.01 h 0.1 l 0.1,0.01 h 0.1 0.1 l 0.2,0.01 h 0.1 0.1 0.2 0.1 0.2 v 2.35 c -1.2,-0.11 -2.7,-0.16 -4,-0.16 -1.2,0 -3.5,0.11 -4.5,0.16 v -2.35 c 0.1,0 2.3,0 2.3,-0.59 0,-0.06 -0.2,-0.55 -0.2,-0.61 l -5.7,-12.25 -6.4,13.45 h 2.7 v 2.35 c -1.6,-0.11 -6.1,-0.16 -6.2,-0.16 -1.4,0 -3.6,0.11 -5.6,0.16 v -2.35 h 3.1 l 9.4,-19.78 -1.2,-2.39 c -1.1,-2.39 -2.7,-5.78 -6.2,-5.78 -0.7,0 -0.8,0.05 -1.2,0.2 0.4,0.21 1.6,0.89 1.6,2.64 0,1.64 -1.2,2.85 -2.9,2.85 -1.4,0 -2.9,-0.96 -2.9,-2.89 0,-2.55 2.4,-4.6 5.4,-4.6 3.8,0 6.7,3.1 8.1,5.94 z\" id=\"path2164\" inkscape:connector-curvature=\"0\" style=\"fill:#00ffff;stroke-width:0\"/><path d=\"m 1195.5,357.89 h 13.9 c 0.7,0 1.7,0 1.7,1 0,1 -1,1 -1.7,1 h -13.9 v 13.96 c 0,0.69 0,1.64 -1,1.64 -0.9,0 -0.9,-0.95 -0.9,-1.64 v -13.96 h -14 c -0.7,0 -1.6,0 -1.6,-1 0,-1 0.9,-1 1.6,-1 h 14 v -13.93 c 0,-0.71 0,-1.66 0.9,-1.66 1,0 1,0.95 1,1.66 z\" id=\"path2166\" inkscape:connector-curvature=\"0\" style=\"fill:#ffffff;stroke-width:0\"/><path d=\"m 1242.3,358.69 5.8,6.49 c 0.7,0.7 1,1.04 5.1,1.04 v 2.35 c -1.7,-0.11 -4.3,-0.16 -4.6,-0.16 -1.2,0 -3.7,0.11 -5.1,0.16 v -2.35 c 0.7,0 1.3,-0.11 1.9,-0.45 -0.2,-0.3 -0.2,-0.39 -0.4,-0.59 l -4.2,-4.69 -4.9,5.73 h 2 v 2.35 c -1.3,-0.05 -4.4,-0.16 -6,-0.16 -1.6,0 -3.8,0.11 -5.5,0.16 v -2.35 h 3.5 l 7.8,-9.17 -6.5,-7.33 c -0.8,-0.93 -2.6,-0.93 -5,-0.93 v -2.35 c 1.7,0.1 4.3,0.16 4.6,0.16 1.2,0 4.1,-0.11 5.1,-0.16 v 2.35 c -0.9,0 -1.9,0.25 -1.9,0.54 0,0.05 0,0.1 0.4,0.5 l 4.8,5.42 5.5,-6.46 h -1.9 v -2.35 c 1.3,0.05 4.3,0.16 6,0.16 1.5,0 3.8,-0.11 5.4,-0.16 v 2.35 h -3.5 z\" id=\"path2168\" inkscape:connector-curvature=\"0\" style=\"fill:#ff00ff;stroke-width:0\"/><path d=\"m 1303.3,362.74 h 0.2 0.1 0.2 v 0.01 h 0.1 l 0.1,0.01 0.1,0.01 v 0.01 l 0.1,0.01 0.1,0.01 v 0.02 l 0.1,0.02 0.1,0.02 v 0.03 l 0.1,0.02 v 0.03 l 0.1,0.04 v 0.04 l 0.1,0.04 v 0.04 l 0.1,0.05 v 0.03 0.03 0.03 0.03 l 0.1,0.03 v 0.03 0.03 0.04 0.03 0.04 0.04 0.04 0.04 0.04 0.05 0.04 c 0,1 -0.9,1 -1.6,1 h -29.8 c -0.8,0 -1.7,0 -1.7,-1 0,-0.98 0.9,-0.98 1.7,-0.98 z\" id=\"path2170\" inkscape:connector-curvature=\"0\" style=\"fill:#ffffff;stroke-width:0\"/><path d=\"m 1303.4,353.07 h 0.1 v 0 h 0.2 0.1 l 0.1,0.01 v 0 l 0.1,0.01 0.1,0.01 v 0.01 l 0.1,0.01 0.1,0.01 v 0.02 l 0.1,0.02 0.1,0.02 v 0.03 l 0.1,0.02 v 0.04 l 0.1,0.03 v 0.04 l 0.1,0.04 v 0.05 l 0.1,0.02 v 0.03 0.02 0.03 0.03 0.03 l 0.1,0.03 v 0.04 0.03 0.04 0.03 0.04 0.04 0.04 0.04 0.05 0.04 0.05 c 0,1 -0.9,1 -1.7,1 h -29.7 c -0.8,0 -1.7,0 -1.7,-1 0,-1 0.9,-1 1.7,-1 z\" id=\"path2172\" inkscape:connector-curvature=\"0\" style=\"fill:#ffffff;stroke-width:0\"/><path d=\"m 1344.1,366.43 v 0.05 0.04 l 0.1,0.05 v 0.04 0.04 0.04 l 0.1,0.04 v 0.03 0.04 0.03 l 0.1,0.03 v 0.03 0.03 0.03 0.03 0.03 l 0.1,0.03 v 0.02 0.03 0.03 0.03 0.03 0.02 0.03 0.04 0.03 0.03 0.04 0.03 0.04 0.04 l 0.1,0.04 c 0,1.05 -0.8,1.05 -1.7,1.05 h -18.2 l -0.6,-8.72 h 2.3 c 0.3,5.12 1.8,6.92 7,6.92 h 4.2 l -13.9,-18.14 c -0.4,-0.55 -0.4,-0.64 -0.4,-1.09 0,-1.1 0.6,-1.1 1.6,-1.1 h 18.9 l 0.9,10.06 h -2.4 c -0.4,-5.03 -1.2,-8.06 -7.8,-8.06 h -4.3 z\" id=\"path2174\" inkscape:connector-curvature=\"0\" style=\"fill:#00ff00;stroke-width:0\"/></g>    </g>\n",
       "  </g>\n",
       "</svg>"
      ],
      "text/plain": [
       "<IPython.core.display.SVG object>"
      ]
     },
     "metadata": {},
     "output_type": "display_data"
    }
   ],
   "source": [
    "def show_svg():\n",
    "    display(SVG(url='https://pabloinsente.github.io/assets/post-10/b-geometric-vectors.svg'))\n",
    "show_svg()"
   ]
  },
  {
   "cell_type": "markdown",
   "metadata": {},
   "source": [
    "## Polynomials\n",
    "A polynomial is an expression like f(x)=x2+y+1. This is, a expression adding multiple “terms” (nomials). \n",
    "Polynomials are vectors because they meet the definition of a vector: they can be added together to get another \n",
    "polynomial, and they can be multiplied together to get another polynomial.\n",
    "\n",
    "function addition is valid f(x)+g(x) and multiplying by a scalar is valid 5×f(x)\n",
    "\n",
    "Fig. 3: Polynomials\n"
   ]
  },
  {
   "cell_type": "code",
   "execution_count": 10,
   "metadata": {},
   "outputs": [
    {
     "data": {
      "image/svg+xml": [
       "<svg height=\"88mm\" id=\"svg2252\" inkscape:version=\"0.92.3 (2405546, 2018-03-11)\" sodipodi:docname=\"b-polynomials-vectors.svg\" version=\"1.1\" viewBox=\"0 0 87 88\" width=\"87mm\" xmlns=\"http://www.w3.org/2000/svg\" xmlns:cc=\"http://creativecommons.org/ns#\" xmlns:dc=\"http://purl.org/dc/elements/1.1/\" xmlns:inkscape=\"http://www.inkscape.org/namespaces/inkscape\" xmlns:rdf=\"http://www.w3.org/1999/02/22-rdf-syntax-ns#\" xmlns:sodipodi=\"http://sodipodi.sourceforge.net/DTD/sodipodi-0.dtd\" xmlns:svg=\"http://www.w3.org/2000/svg\">\n",
       "  <defs id=\"defs2246\">\n",
       "    <marker id=\"marker2992\" inkscape:isstock=\"true\" inkscape:stockid=\"Arrow2Mend\" orient=\"auto\" refX=\"0\" refY=\"0\" style=\"overflow:visible\">\n",
       "      <path d=\"M 8.7185878,4.0337352 -2.2072895,0.01601326 8.7185884,-4.0017078 c -1.7454984,2.3720609 -1.7354408,5.6174519 -6e-7,8.035443 z\" id=\"path2990\" inkscape:connector-curvature=\"0\" style=\"fill:#ff00ff;fill-opacity:1;fill-rule:evenodd;stroke:#ff00ff;stroke-width:0.625;stroke-linejoin:round;stroke-opacity:1\" transform=\"scale(-0.6)\"/>\n",
       "    </marker>\n",
       "    <inkscape:path-effect effect=\"spiro\" id=\"path-effect2988\" is_visible=\"true\"/>\n",
       "    <inkscape:path-effect effect=\"spiro\" id=\"path-effect2984\" is_visible=\"true\"/>\n",
       "    <inkscape:path-effect effect=\"spiro\" id=\"path-effect2980\" is_visible=\"true\"/>\n",
       "    <inkscape:path-effect effect=\"spiro\" id=\"path-effect2964\" is_visible=\"true\"/>\n",
       "    <marker id=\"Arrow2Mend\" inkscape:isstock=\"true\" inkscape:stockid=\"Arrow2Mend\" orient=\"auto\" refX=\"0\" refY=\"0\" style=\"overflow:visible\">\n",
       "      <path d=\"M 8.7185878,4.0337352 -2.2072895,0.01601326 8.7185884,-4.0017078 c -1.7454984,2.3720609 -1.7354408,5.6174519 -6e-7,8.035443 z\" id=\"path859\" inkscape:connector-curvature=\"0\" style=\"fill:#ffffff;fill-opacity:1;fill-rule:evenodd;stroke:#ffffff;stroke-width:0.625;stroke-linejoin:round;stroke-opacity:1\" transform=\"scale(-0.6)\"/>\n",
       "    </marker>\n",
       "    <marker id=\"marker1116\" inkscape:isstock=\"true\" inkscape:stockid=\"Arrow2Mend\" orient=\"auto\" refX=\"0\" refY=\"0\" style=\"overflow:visible\">\n",
       "      <path d=\"M 8.7185878,4.0337352 -2.2072895,0.01601326 8.7185884,-4.0017078 c -1.7454984,2.3720609 -1.7354408,5.6174519 -6e-7,8.035443 z\" id=\"path1114\" inkscape:connector-curvature=\"0\" style=\"fill:#ffffff;fill-opacity:1;fill-rule:evenodd;stroke:#ffffff;stroke-width:0.625;stroke-linejoin:round;stroke-opacity:1\" transform=\"scale(-0.6)\"/>\n",
       "    </marker>\n",
       "  </defs>\n",
       "  <sodipodi:namedview bordercolor=\"#666666\" borderopacity=\"1.0\" id=\"base\" inkscape:current-layer=\"layer1\" inkscape:cx=\"28.649992\" inkscape:cy=\"112.41206\" inkscape:document-units=\"mm\" inkscape:pageopacity=\"1\" inkscape:pageshadow=\"2\" inkscape:window-height=\"768\" inkscape:window-maximized=\"1\" inkscape:window-width=\"1600\" inkscape:window-x=\"0\" inkscape:window-y=\"37\" inkscape:zoom=\"0.98994949\" pagecolor=\"#000000\" showgrid=\"false\"/>\n",
       "  <metadata id=\"metadata2249\">\n",
       "    <rdf:RDF>\n",
       "      <cc:Work rdf:about=\"\">\n",
       "        <dc:format>image/svg+xml</dc:format>\n",
       "        <dc:type rdf:resource=\"http://purl.org/dc/dcmitype/StillImage\"/>\n",
       "        <dc:title/>\n",
       "      </cc:Work>\n",
       "    </rdf:RDF>\n",
       "  </metadata>\n",
       "  <g id=\"layer1\" inkscape:groupmode=\"layer\" inkscape:label=\"Layer 1\" transform=\"translate(0,-209)\">\n",
       "    <path d=\"m 4.233058,292.9606 v -80\" id=\"path10\" inkscape:connector-curvature=\"0\" style=\"fill:#ffffff;stroke:#ffffff;stroke-width:0.5;stroke-linecap:butt;stroke-linejoin:miter;stroke-miterlimit:4;stroke-dasharray:none;stroke-opacity:1;marker-end:url(#Arrow2Mend)\"/>\n",
       "    <path d=\"M 4.383323,292.81059 H 84.383336\" id=\"path10-3\" inkscape:connector-curvature=\"0\" style=\"fill:#ffffff;stroke:#ffffff;stroke-width:0.5;stroke-linecap:butt;stroke-linejoin:miter;stroke-miterlimit:4;stroke-dasharray:none;stroke-opacity:1;marker-end:url(#marker1116)\"/>\n",
       "    <path d=\"m 10.961309,268.4628 c 0.225036,-7.05558 2.535056,-14.03192 6.565317,-19.8275 4.030262,-5.79559 9.766236,-10.38952 16.302242,-13.05643 8.57536,-3.49904 18.486328,-3.59534 27.128059,-0.26359 8.641732,3.33175 15.922952,10.05636 19.929978,18.40644\" id=\"path2962\" inkscape:connector-curvature=\"0\" inkscape:original-d=\"m 10.961309,268.4628 c 7.496791,-10.83559 15.245305,-21.92289 22.867559,-32.88393 7.622257,-10.96105 31.372288,12.09497 47.058037,18.14285\" inkscape:path-effect=\"#path-effect2964\" style=\"fill:none;stroke:#ff00ff;stroke-width:0.40000001;stroke-linecap:butt;stroke-linejoin:miter;stroke-miterlimit:4;stroke-dasharray:none;stroke-opacity:1\"/>\n",
       "    <path d=\"m 7.370536,233.12202 71.437498,54.0506\" id=\"path2978\" inkscape:connector-curvature=\"0\" inkscape:original-d=\"m 7.370536,233.12202 c 23.812763,18.0166 47.625263,36.03347 71.437498,54.0506\" inkscape:path-effect=\"#path-effect2980\" style=\"fill:none;stroke:#00ff00;stroke-width:0.40000001;stroke-linecap:butt;stroke-linejoin:miter;stroke-miterlimit:4;stroke-dasharray:none;stroke-opacity:1\"/>\n",
       "    <path d=\"m 8.126488,279.80208 c 0.9646758,-3.2599 2.839221,-6.24537 5.356247,-8.53057 2.517026,-2.28519 5.669185,-3.86344 9.006848,-4.50961 4.875518,-0.9439 9.904347,0.084 14.707171,1.34677 4.802824,1.26274 9.620064,2.77539 14.585984,2.81097 4.870588,0.0349 9.742197,-1.40092 13.815303,-4.07181 4.073106,-2.67089 7.331791,-6.56641 9.241243,-11.04724\" id=\"path2986\" inkscape:connector-curvature=\"0\" inkscape:original-d=\"m 8.126488,279.80208 c 4.787963,-4.34699 9.575661,-8.69372 14.363095,-13.04018 4.787434,-4.34646 19.529033,2.77156 29.293155,4.15774 9.76412,1.38618 15.371294,-10.07963 23.056546,-15.11905\" inkscape:path-effect=\"#path-effect2988\" style=\"fill:none;stroke:#00ffff;stroke-width:0.40000001;stroke-linecap:butt;stroke-linejoin:miter;stroke-miterlimit:4;stroke-dasharray:none;stroke-opacity:1\"/>\n",
       "  </g>\n",
       "</svg>"
      ],
      "text/plain": [
       "<IPython.core.display.SVG object>"
      ]
     },
     "metadata": {},
     "output_type": "display_data"
    }
   ],
   "source": [
    "def show_svg():\n",
    "    display(SVG(url='https://pabloinsente.github.io/assets/post-10/b-polynomials-vectors.svg'))\n",
    "show_svg()"
   ]
  },
  {
   "cell_type": "code",
   "execution_count": 2,
   "metadata": {},
   "outputs": [],
   "source": [
    "import numpy as np\n",
    "import pandas as pd"
   ]
  },
  {
   "cell_type": "code",
   "execution_count": 4,
   "metadata": {},
   "outputs": [
    {
     "data": {
      "text/plain": [
       "array([[-14]])"
      ]
     },
     "execution_count": 4,
     "metadata": {},
     "output_type": "execute_result"
    }
   ],
   "source": [
    "# dot product\n",
    "x, y = np.array([[-2], [2]]), np.array([[4], [-3]])\n",
    "np.dot(x.T, y)"
   ]
  },
  {
   "cell_type": "markdown",
   "metadata": {},
   "source": [
    "# Vector space, span and subspace\n",
    "\n",
    "## Vector Space\n",
    "\n",
    "In its more general form, a vector space, also known as linear space, is a collection of objects that follow the rules defined for vectors in Rn. We mentioned those rules when we defined vectors: they can be added together and multiplied by scalars, and return vectors of the same type. More colloquially, a vector space is the set of proper vectors and all possible linear combinatios of the vector set. In addition, vector addition and multiplication must follow these eight rules:\n",
    "\n",
    "- commutativity: x+y=y+x\n",
    "- associativity: x+(y+x)=(y+x)+z\n",
    "- unique zero vector such that: x+0=x ∀ x\n",
    "- ∀ x there is a unique vector x such that x+−x=0\n",
    "- identity element of scalar multiplication: 1x=x\n",
    "- distributivity of scalar multiplication w.r.t vector addition: x(y+z)=xz+zy\n",
    "- x(yz)=(xy)z\n",
    "- (y+z)x=yx+zx\n",
    "\n",
    "## Vector Span\n",
    "\n",
    "Consider the vectors x and y and the scalars α and β. If we take all possible linear combinations of αx+βy we would obtain the span of such vectors. This is easier to grasp when you think about geometric vectors. If our vectors x and y point into different directions in the 2-dimensional space, we get that the span(x,y) is equal to the entire 2-dimensional plane, as shown in the middle-pane in Fig. 5. Just imagine having an unlimited number of two types of sticks: one pointing vertically, and one pointing horizontally. Now, you can reach any point in the 2-dimensional space by simply combining the necessary number of vertical and horizontal sticks (including taking fractions of sticks).\n",
    "\n",
    "Fig. 5: Vector Span\n",
    "\n",
    "<p>\n",
    "    <img src = \"assets/1.png\">\n",
    "</p>"
   ]
  },
  {
   "cell_type": "code",
   "execution_count": null,
   "metadata": {},
   "outputs": [],
   "source": []
  },
  {
   "cell_type": "code",
   "execution_count": null,
   "metadata": {},
   "outputs": [],
   "source": []
  },
  {
   "cell_type": "code",
   "execution_count": null,
   "metadata": {},
   "outputs": [],
   "source": []
  },
  {
   "cell_type": "code",
   "execution_count": null,
   "metadata": {},
   "outputs": [],
   "source": []
  },
  {
   "cell_type": "code",
   "execution_count": null,
   "metadata": {},
   "outputs": [],
   "source": []
  },
  {
   "cell_type": "code",
   "execution_count": null,
   "metadata": {},
   "outputs": [],
   "source": []
  },
  {
   "cell_type": "code",
   "execution_count": null,
   "metadata": {},
   "outputs": [],
   "source": []
  },
  {
   "cell_type": "code",
   "execution_count": null,
   "metadata": {},
   "outputs": [],
   "source": []
  },
  {
   "cell_type": "code",
   "execution_count": null,
   "metadata": {},
   "outputs": [],
   "source": []
  },
  {
   "cell_type": "code",
   "execution_count": null,
   "metadata": {},
   "outputs": [],
   "source": []
  },
  {
   "cell_type": "code",
   "execution_count": null,
   "metadata": {},
   "outputs": [],
   "source": []
  },
  {
   "cell_type": "code",
   "execution_count": null,
   "metadata": {},
   "outputs": [],
   "source": []
  },
  {
   "cell_type": "code",
   "execution_count": null,
   "metadata": {},
   "outputs": [],
   "source": []
  },
  {
   "cell_type": "code",
   "execution_count": null,
   "metadata": {},
   "outputs": [],
   "source": []
  },
  {
   "cell_type": "code",
   "execution_count": null,
   "metadata": {},
   "outputs": [],
   "source": []
  },
  {
   "cell_type": "code",
   "execution_count": null,
   "metadata": {},
   "outputs": [],
   "source": []
  },
  {
   "cell_type": "code",
   "execution_count": null,
   "metadata": {},
   "outputs": [],
   "source": []
  },
  {
   "cell_type": "code",
   "execution_count": null,
   "metadata": {},
   "outputs": [],
   "source": []
  },
  {
   "cell_type": "code",
   "execution_count": null,
   "metadata": {},
   "outputs": [],
   "source": []
  },
  {
   "cell_type": "code",
   "execution_count": null,
   "metadata": {},
   "outputs": [],
   "source": []
  },
  {
   "cell_type": "code",
   "execution_count": null,
   "metadata": {},
   "outputs": [],
   "source": []
  },
  {
   "cell_type": "code",
   "execution_count": null,
   "metadata": {},
   "outputs": [],
   "source": []
  },
  {
   "cell_type": "code",
   "execution_count": null,
   "metadata": {},
   "outputs": [],
   "source": []
  },
  {
   "cell_type": "code",
   "execution_count": null,
   "metadata": {},
   "outputs": [],
   "source": []
  },
  {
   "cell_type": "code",
   "execution_count": null,
   "metadata": {},
   "outputs": [],
   "source": []
  },
  {
   "cell_type": "code",
   "execution_count": null,
   "metadata": {},
   "outputs": [],
   "source": []
  },
  {
   "cell_type": "code",
   "execution_count": null,
   "metadata": {},
   "outputs": [],
   "source": []
  },
  {
   "cell_type": "code",
   "execution_count": null,
   "metadata": {},
   "outputs": [],
   "source": []
  },
  {
   "cell_type": "code",
   "execution_count": null,
   "metadata": {},
   "outputs": [],
   "source": []
  },
  {
   "cell_type": "code",
   "execution_count": null,
   "metadata": {},
   "outputs": [],
   "source": []
  },
  {
   "cell_type": "code",
   "execution_count": null,
   "metadata": {},
   "outputs": [],
   "source": []
  },
  {
   "cell_type": "code",
   "execution_count": null,
   "metadata": {},
   "outputs": [],
   "source": []
  },
  {
   "cell_type": "code",
   "execution_count": null,
   "metadata": {},
   "outputs": [],
   "source": []
  },
  {
   "cell_type": "code",
   "execution_count": null,
   "metadata": {},
   "outputs": [],
   "source": []
  },
  {
   "cell_type": "code",
   "execution_count": null,
   "metadata": {},
   "outputs": [],
   "source": []
  },
  {
   "cell_type": "code",
   "execution_count": null,
   "metadata": {},
   "outputs": [],
   "source": []
  },
  {
   "cell_type": "code",
   "execution_count": null,
   "metadata": {},
   "outputs": [],
   "source": []
  },
  {
   "cell_type": "code",
   "execution_count": null,
   "metadata": {},
   "outputs": [],
   "source": []
  },
  {
   "cell_type": "code",
   "execution_count": null,
   "metadata": {},
   "outputs": [],
   "source": []
  },
  {
   "cell_type": "code",
   "execution_count": null,
   "metadata": {},
   "outputs": [],
   "source": []
  },
  {
   "cell_type": "code",
   "execution_count": null,
   "metadata": {},
   "outputs": [],
   "source": []
  },
  {
   "cell_type": "code",
   "execution_count": null,
   "metadata": {},
   "outputs": [],
   "source": []
  },
  {
   "cell_type": "code",
   "execution_count": null,
   "metadata": {},
   "outputs": [],
   "source": []
  },
  {
   "cell_type": "code",
   "execution_count": null,
   "metadata": {},
   "outputs": [],
   "source": []
  },
  {
   "cell_type": "code",
   "execution_count": null,
   "metadata": {},
   "outputs": [],
   "source": []
  },
  {
   "cell_type": "code",
   "execution_count": null,
   "metadata": {},
   "outputs": [],
   "source": []
  },
  {
   "cell_type": "code",
   "execution_count": null,
   "metadata": {},
   "outputs": [],
   "source": []
  },
  {
   "cell_type": "code",
   "execution_count": null,
   "metadata": {},
   "outputs": [],
   "source": []
  },
  {
   "cell_type": "code",
   "execution_count": null,
   "metadata": {},
   "outputs": [],
   "source": []
  },
  {
   "cell_type": "code",
   "execution_count": null,
   "metadata": {},
   "outputs": [],
   "source": []
  },
  {
   "cell_type": "code",
   "execution_count": null,
   "metadata": {},
   "outputs": [],
   "source": []
  },
  {
   "cell_type": "code",
   "execution_count": null,
   "metadata": {},
   "outputs": [],
   "source": []
  },
  {
   "cell_type": "code",
   "execution_count": null,
   "metadata": {},
   "outputs": [],
   "source": []
  },
  {
   "cell_type": "code",
   "execution_count": null,
   "metadata": {},
   "outputs": [],
   "source": []
  },
  {
   "cell_type": "code",
   "execution_count": null,
   "metadata": {},
   "outputs": [],
   "source": []
  },
  {
   "cell_type": "code",
   "execution_count": null,
   "metadata": {},
   "outputs": [],
   "source": []
  },
  {
   "cell_type": "code",
   "execution_count": null,
   "metadata": {},
   "outputs": [],
   "source": []
  },
  {
   "cell_type": "code",
   "execution_count": null,
   "metadata": {},
   "outputs": [],
   "source": []
  },
  {
   "cell_type": "code",
   "execution_count": null,
   "metadata": {},
   "outputs": [],
   "source": []
  },
  {
   "cell_type": "code",
   "execution_count": null,
   "metadata": {},
   "outputs": [],
   "source": []
  },
  {
   "cell_type": "code",
   "execution_count": null,
   "metadata": {},
   "outputs": [],
   "source": []
  },
  {
   "cell_type": "code",
   "execution_count": null,
   "metadata": {},
   "outputs": [],
   "source": []
  },
  {
   "cell_type": "code",
   "execution_count": null,
   "metadata": {},
   "outputs": [],
   "source": []
  },
  {
   "cell_type": "code",
   "execution_count": null,
   "metadata": {},
   "outputs": [],
   "source": []
  },
  {
   "cell_type": "code",
   "execution_count": null,
   "metadata": {},
   "outputs": [],
   "source": []
  },
  {
   "cell_type": "code",
   "execution_count": null,
   "metadata": {},
   "outputs": [],
   "source": []
  },
  {
   "cell_type": "markdown",
   "metadata": {},
   "source": [
    "## REFERNCES\n",
    "\n",
    "https://pabloinsente.github.io/intro-linear-algebra"
   ]
  }
 ],
 "metadata": {
  "kernelspec": {
   "display_name": "Python 3",
   "language": "python",
   "name": "python3"
  },
  "language_info": {
   "codemirror_mode": {
    "name": "ipython",
    "version": 3
   },
   "file_extension": ".py",
   "mimetype": "text/x-python",
   "name": "python",
   "nbconvert_exporter": "python",
   "pygments_lexer": "ipython3",
   "version": "3.7.7"
  }
 },
 "nbformat": 4,
 "nbformat_minor": 4
}
