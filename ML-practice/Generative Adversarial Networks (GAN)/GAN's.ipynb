{
 "cells": [
  {
   "cell_type": "markdown",
   "metadata": {},
   "source": [
    "## REFERENCES:\n",
    "\n",
    "- [Only Numpy: Implementing GAN (General Adversarial Networks) and Adam Optimizer using Numpy with Interactive Code. (Run GAN Online) * ](https://towardsdatascience.com/only-numpy-implementing-gan-general-adversarial-networks-and-adam-optimizer-using-numpy-with-2a7e4e032021)\n",
    "- [Generative Adversarial Nets in TensorFlow](https://wiseodd.github.io/techblog/2016/09/17/gan-tensorflow/)\n",
    "- [GANs from scratch.](https://towardsdatascience.com/gans-from-scratch-8f5da17b3fb4)\n",
    "- [GANs from Scratch 1: A deep introduction. With code in PyTorch and TensorFlow](https://medium.com/ai-society/gans-from-scratch-1-a-deep-introduction-with-code-in-pytorch-and-tensorflow-cb03cdcdba0f)\n",
    "- [Vanilla GAN with Numpy](https://christinakouridi.blog/2019/07/09/vanilla-gan-numpy/)\n",
    "- [Introduction to GANs with Python and TensorFlow](https://stackabuse.com/introduction-to-gans-with-python-and-tensorflow/)\n",
    "- [Building a simple Generative Adversarial Network (GAN) using TensorFlow](https://blog.paperspace.com/implementing-gans-in-tensorflow/)\n",
    "- []()\n"
   ]
  },
  {
   "cell_type": "code",
   "execution_count": null,
   "metadata": {},
   "outputs": [],
   "source": []
  }
 ],
 "metadata": {
  "kernelspec": {
   "display_name": "Python 3",
   "language": "python",
   "name": "python3"
  },
  "language_info": {
   "codemirror_mode": {
    "name": "ipython",
    "version": 3
   },
   "file_extension": ".py",
   "mimetype": "text/x-python",
   "name": "python",
   "nbconvert_exporter": "python",
   "pygments_lexer": "ipython3",
   "version": "3.7.7"
  }
 },
 "nbformat": 4,
 "nbformat_minor": 4
}
