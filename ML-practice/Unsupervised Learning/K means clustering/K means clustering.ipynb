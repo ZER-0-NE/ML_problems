{
 "cells": [
  {
   "cell_type": "markdown",
   "metadata": {},
   "source": [
    "## REFERENCES:\n",
    "\n",
    "- [Kmeans scratch](https://mmuratarat.github.io/2019-07-23/kmeans_from_scratch)\n",
    "- [tds*](https://towardsdatascience.com/k-means-clustering-from-scratch-6a9d19cafc25)\n",
    "- [tds kmeans scratch](https://medium.com/@rishit.dagli/build-k-means-from-scratch-in-python-e46bf68aa875)\n",
    "- [K means python](https://medium.com/machine-learning-algorithms-from-scratch/k-means-clustering-from-scratch-in-python-1675d38eee42)\n",
    "- [Implementing K Means Clustering from Scratch - in Python](http://madhugnadig.com/articles/machine-learning/2017/03/04/implementing-k-means-clustering-from-scratch-in-python.html)\n",
    "- [K-Means Clustering in Python](https://mubaris.com/posts/kmeans-clustering/)\n",
    "- [Mathematics behind K-Mean Clustering algorithm](https://muthu.co/mathematics-behind-k-mean-clustering-algorithm/)\n",
    "- [Data Clustering with K-Means](https://pythonmachinelearning.pro/data-clustering-with-k-means/)\n",
    "- [Implementing the k-means algorithm with numpy](https://flothesof.github.io/k-means-numpy.html)\n",
    "- []()"
   ]
  },
  {
   "cell_type": "code",
   "execution_count": null,
   "metadata": {},
   "outputs": [],
   "source": []
  }
 ],
 "metadata": {
  "kernelspec": {
   "display_name": "Python 3",
   "language": "python",
   "name": "python3"
  },
  "language_info": {
   "codemirror_mode": {
    "name": "ipython",
    "version": 3
   },
   "file_extension": ".py",
   "mimetype": "text/x-python",
   "name": "python",
   "nbconvert_exporter": "python",
   "pygments_lexer": "ipython3",
   "version": "3.7.7"
  }
 },
 "nbformat": 4,
 "nbformat_minor": 4
}
