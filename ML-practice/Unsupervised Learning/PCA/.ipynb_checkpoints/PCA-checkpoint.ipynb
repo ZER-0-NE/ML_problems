{
 "cells": [
  {
   "cell_type": "markdown",
   "metadata": {},
   "source": [
    "## REFERENCES:\n",
    "\n",
    "- [Implementing a Principal Component Analysis (PCA)](https://sebastianraschka.com/Articles/2014_pca_step_by_step.html)\n",
    "- [Principal Component Analysis (PCA) from scratch in Python*](https://towardsdatascience.com/principal-component-analysis-pca-from-scratch-in-python-7f3e2a540c51)\n",
    "- [ML From Scratch, Part 6: Principal Component Analysis](http://www.oranlooney.com/post/ml-from-scratch-part-6-pca/)\n",
    "- [The Mathematics Behind Principal Component Analysis](https://towardsdatascience.com/the-mathematics-behind-principal-component-analysis-fff2d7f4b643#:~:text=The%20central%20idea%20of%20principal,present%20in%20the%20data%20set.)\n",
    "- [Understanding the Mathematics behind Principal Component Analysis](https://heartbeat.fritz.ai/understanding-the-mathematics-behind-principal-component-analysis-efd7c9ff0bb3)\n",
    "- [Principal component analysis with linear algebra](http://www.math.union.edu/~jaureguj/PCA.pdf)\n",
    "- [Reunderstanding The Mathematics Behind Principal Component Analysis](https://xijunlee.github.io/2019/03/10/reunderstanding-of-PCA/)\n",
    "- [A STEP BY STEP EXPLANATION OF PRINCIPAL COMPONENT ANALYSIS](https://builtin.com/data-science/step-step-explanation-principal-component-analysis)\n",
    "- [Understanding Principal Component Analysis Once And For All](https://medium.com/bluekiri/understanding-principal-component-analysis-once-and-for-all-9f75e7b33635)\n",
    "- []()"
   ]
  },
  {
   "cell_type": "code",
   "execution_count": null,
   "metadata": {},
   "outputs": [],
   "source": []
  }
 ],
 "metadata": {
  "kernelspec": {
   "display_name": "Python 3",
   "language": "python",
   "name": "python3"
  },
  "language_info": {
   "codemirror_mode": {
    "name": "ipython",
    "version": 3
   },
   "file_extension": ".py",
   "mimetype": "text/x-python",
   "name": "python",
   "nbconvert_exporter": "python",
   "pygments_lexer": "ipython3",
   "version": "3.7.6"
  }
 },
 "nbformat": 4,
 "nbformat_minor": 4
}
