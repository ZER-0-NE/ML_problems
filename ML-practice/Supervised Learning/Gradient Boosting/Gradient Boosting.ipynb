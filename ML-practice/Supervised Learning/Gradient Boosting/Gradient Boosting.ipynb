{
 "cells": [
  {
   "cell_type": "markdown",
   "metadata": {},
   "source": [
    "## REFERNCES: \n",
    "\n",
    "- [Gradient Boosting in Python from Scratch*](https://towardsdatascience.com/gradient-boosting-in-python-from-scratch-4a3d9077367#:~:text=Gradient%20boosting%20is%20an%20ensemble,what%20it's%20given%20as%20inputs.)\n",
    "- [Gradient Boosting from scratch*](https://medium.com/mlreview/gradient-boosting-from-scratch-1e317ae4587d)\n",
    "- [Gradient Boosting (GBM) from Scratch - [Tutorial]](https://steemit.com/machine-learning/@cristi/gradient-boosting-gbm-from-scratch-tutorial)\n",
    "- [How to explain gradient boosting](https://explained.ai/gradient-boosting/)\n",
    "- [Demystifying Maths of Gradient Boosting](https://towardsdatascience.com/demystifying-maths-of-gradient-boosting-bd5715e82b7c#:~:text=The%20idea%20is%20simple%2D%20form,suitable%20number%20of%20base%20learners.)\n",
    "- [A Gentle Introduction to Gradient Boosting](http://www.ccs.neu.edu/home/vip/teach/MLcourse/4_boosting/slides/gradient_boosting.pdf)\n",
    "- [The Gradient Boosters I: The Good Old Gradient Boosting](https://deep-and-shallow.com/2020/02/02/the-gradient-boosters-i-the-math-heavy-primer-to-gradient-boosting-algorithm/)\n",
    "- [Gradient Boosting Explained](https://www.gormanalysis.com/blog/gradient-boosting-explained/)\n",
    "- [Math behind GBM and XGBoost](https://medium.com/analytics-vidhya/math-behind-gbm-and-xgboost-d00e8536b7de)\n",
    "- [Gradient Boosting Decision Tree Algorithm Explained*](https://towardsdatascience.com/machine-learning-part-18-boosting-algorithms-gradient-boosting-in-python-ef5ae6965be4)\n",
    "- []()"
   ]
  },
  {
   "cell_type": "code",
   "execution_count": null,
   "metadata": {},
   "outputs": [],
   "source": []
  }
 ],
 "metadata": {
  "kernelspec": {
   "display_name": "Python 3",
   "language": "python",
   "name": "python3"
  },
  "language_info": {
   "codemirror_mode": {
    "name": "ipython",
    "version": 3
   },
   "file_extension": ".py",
   "mimetype": "text/x-python",
   "name": "python",
   "nbconvert_exporter": "python",
   "pygments_lexer": "ipython3",
   "version": "3.7.7"
  }
 },
 "nbformat": 4,
 "nbformat_minor": 4
}
