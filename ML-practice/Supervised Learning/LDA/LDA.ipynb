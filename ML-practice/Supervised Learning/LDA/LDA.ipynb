{
 "cells": [
  {
   "cell_type": "markdown",
   "metadata": {},
   "source": [
    "## REFERENCES:\n",
    "\n",
    "- [Intuitive Guide to Latent Dirichlet Allocation](https://towardsdatascience.com/light-on-math-machine-learning-intuitive-guide-to-latent-dirichlet-allocation-437c81220158#:~:text=Though%20the%20name%20is%20a,captured%20by%20those%20imaginary%20topics.)\n",
    "- [Latent Dirichlet Allocation for Beginners: A high level intuition](https://medium.com/@pratikbarhate/latent-dirichlet-allocation-for-beginners-a-high-level-intuition-23f8a5cbad71)\n",
    "- [Introduction to Latent Dirichlet Allocation](https://blog.echen.me/2011/08/22/introduction-to-latent-dirichlet-allocation/)\n",
    "- [Understanding the mathematics behind Linear Discriminant Analysis (LDA)](https://shuzhanfan.github.io/2018/07/understanding-mathematics-behind-lda/)\n",
    "- [Intuitive explanation of the Latent Dirichlet Allocation (LDA)\n",
    "](https://math.stackexchange.com/questions/3508455/intuitive-explanation-of-the-latent-dirichlet-allocation-lda)\n",
    "- [Linear Discriminant Analysis In Python*](https://towardsdatascience.com/linear-discriminant-analysis-in-python-76b8b17817c2)\n",
    "- [Linear Discriminant Analysis](https://sebastianraschka.com/Articles/2014_python_lda.html)\n",
    "- [Implementing LDA in Python with Scikit-Learn](https://stackabuse.com/implementing-lda-in-python-with-scikit-learn/)\n",
    "- []()\n",
    "- []()\n",
    "- []()\n"
   ]
  },
  {
   "cell_type": "code",
   "execution_count": null,
   "metadata": {},
   "outputs": [],
   "source": []
  }
 ],
 "metadata": {
  "kernelspec": {
   "display_name": "Python 3",
   "language": "python",
   "name": "python3"
  },
  "language_info": {
   "codemirror_mode": {
    "name": "ipython",
    "version": 3
   },
   "file_extension": ".py",
   "mimetype": "text/x-python",
   "name": "python",
   "nbconvert_exporter": "python",
   "pygments_lexer": "ipython3",
   "version": "3.7.6"
  }
 },
 "nbformat": 4,
 "nbformat_minor": 4
}
