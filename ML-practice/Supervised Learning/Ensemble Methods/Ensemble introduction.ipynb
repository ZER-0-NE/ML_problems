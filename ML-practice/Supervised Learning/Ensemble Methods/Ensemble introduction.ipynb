{
 "cells": [
  {
   "cell_type": "markdown",
   "metadata": {},
   "source": [
    "When we try to predict the target variable using any machine learning technique, the main causes of difference in actual and predicted values are noise, variance, and bias. Ensemble helps to reduce these factors (except noise, which is irreducible error).\n",
    "\n",
    "**An ensemble is just a collection of predictors which come together (e.g. mean of all predictions) to give a final prediction. The reason we use ensembles is that many different predictors trying to predict same target variable will perform a better job than any single predictor alone. By combining individual models, the ensemble model tends to be more flexible (less bias) and less data-sensitive (less variance).** \n",
    "\n",
    "\n",
    "Ensembling techniques are further classified into Bagging and Boosting.\n",
    "\n",
    "### Bagging:\n",
    "\n",
    "**It is a simple ensembling technique in which we build many independent predictors/models/learners and combine them using some model averaging techniques. (e.g. weighted average, majority vote or normal average)**\n",
    "\n",
    "We typically take random sub-sample/bootstrap of data for each model, so that all the models are little different from each other. Each observation is chosen with replacement to be used as input for each of the model. So, each model will have different observations based on the bootstrap process. Because this technique takes many uncorrelated learners to make a final model, it reduces error by reducing variance. **Example of bagging ensemble is Random Forest models.**\n",
    "\n",
    "### Boosting:\n",
    "\n",
    "**It is an ensemble technique in which the predictors are not made independently, but sequentially.**\n",
    "\n",
    "**This technique employs the logic in which the subsequent predictors learn from the mistakes of the previous predictors.** Therefore, the observations have an unequal probability of appearing in subsequent models and ones with the highest error appear most. (So the observations are not chosen based on the bootstrap process, but based on the error). The predictors can be chosen from a range of models like decision trees, regressors, classifiers etc. Because new predictors are learning from mistakes committed by previous predictors, it takes less time/iterations to reach close to actual predictions. But we have to choose the stopping criteria carefully or it could lead to overfitting on training data. Gradient Boosting is an example of boosting algorithm.\n",
    "\n",
    "<p>\n",
    "        <img src =\"assets/1.png\" height = 800px width = 800px/>\n",
    "</p>\n",
    "\n",
    "<p>\n",
    "        <img src =\"assets/2.png\"/>\n",
    "</p>\n",
    "\n",
    "<p>\n",
    "        <img src =\"assets/3.png\"/>\n",
    "</p>"
   ]
  },
  {
   "cell_type": "code",
   "execution_count": null,
   "metadata": {},
   "outputs": [],
   "source": []
  }
 ],
 "metadata": {
  "kernelspec": {
   "display_name": "Python 3",
   "language": "python",
   "name": "python3"
  },
  "language_info": {
   "codemirror_mode": {
    "name": "ipython",
    "version": 3
   },
   "file_extension": ".py",
   "mimetype": "text/x-python",
   "name": "python",
   "nbconvert_exporter": "python",
   "pygments_lexer": "ipython3",
   "version": "3.7.7"
  }
 },
 "nbformat": 4,
 "nbformat_minor": 4
}
