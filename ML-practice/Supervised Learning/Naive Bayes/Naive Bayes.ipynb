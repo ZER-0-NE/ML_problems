{
 "cells": [
  {
   "cell_type": "markdown",
   "metadata": {},
   "source": [
    "## REFERENCES:\n",
    "\n",
    "- [NB from scratch](https://chrisalbon.com/machine_learning/naive_bayes/naive_bayes_classifier_from_scratch/)\n",
    "- [NB scratch numpy](https://geoffruddock.com/naive-bayes-from-scratch-with-numpy/)\n",
    "- [NB scratch pythonhttps://appliedmachinelearning.blog/2017/05/23/understanding-naive-bayes-classifier-from-scratch-python-code/](https://blog.goodaudience.com/building-the-na%C3%AFve-bayes-classifier-from-scratch-in-python-b0717fa022d8)\n",
    "- [NB explained](https://appliedmachinelearning.blog/2017/05/23/understanding-naive-bayes-classifier-from-scratch-python-code/)\n",
    "- [gaussian NB](https://hackernoon.com/implementation-of-gaussian-naive-bayes-in-python-from-scratch-c4ea64e3944d)\n",
    "- [Maths behind NB](https://heartbeat.fritz.ai/understanding-the-mathematics-behind-naive-bayes-ab6ee85f50d0)\n",
    "- [NB maths intel](https://software.intel.com/content/www/us/en/develop/articles/mathematical-concepts-and-principles-of-naive-bayes.html)\n",
    "- [Understanding the mathematics behind Naive Bayes](https://shuzhanfan.github.io/2018/06/understanding-mathematics-behind-naive-bayes/)\n",
    "- [NB scratch tds1](https://towardsdatascience.com/na%C3%AFve-bayes-from-scratch-using-python-only-no-fancy-frameworks-a1904b37222d)\n",
    "- [NB scratchh](https://medium.com/machine-learning-algorithms-from-scratch/naive-bayes-classification-from-scratch-in-python-e3a48bf5f91a)\n",
    "- [NB python tds2 *](https://towardsdatascience.com/how-to-impliment-a-gaussian-naive-bayes-classifier-in-python-from-scratch-11e0b80faf5a)\n",
    "- [Unfolding Naïve Bayes from Scratch !](https://towardsdatascience.com/unfolding-na%C3%AFve-bayes-from-scratch-2e86dcae4b01)\n",
    "- [Naive Bayes Classifier Explained tds3 *](https://towardsdatascience.com/naive-bayes-classifier-explained-54593abe6e18)\n"
   ]
  },
  {
   "cell_type": "code",
   "execution_count": null,
   "metadata": {},
   "outputs": [],
   "source": []
  }
 ],
 "metadata": {
  "kernelspec": {
   "display_name": "Python 3",
   "language": "python",
   "name": "python3"
  },
  "language_info": {
   "codemirror_mode": {
    "name": "ipython",
    "version": 3
   },
   "file_extension": ".py",
   "mimetype": "text/x-python",
   "name": "python",
   "nbconvert_exporter": "python",
   "pygments_lexer": "ipython3",
   "version": "3.7.7"
  }
 },
 "nbformat": 4,
 "nbformat_minor": 4
}
