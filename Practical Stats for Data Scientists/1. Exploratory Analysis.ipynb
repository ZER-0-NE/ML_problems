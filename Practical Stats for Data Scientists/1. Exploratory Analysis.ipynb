{
 "cells": [
  {
   "cell_type": "markdown",
   "metadata": {},
   "source": [
    "Classical statistics focused almost exclusively on inference, a sometimes complex set of procedures for drawing conclusions about large populations based on small samples.\n",
    "\n",
    "### Elements of Structured Data\n",
    "\n",
    "There are two basic types of structured data: numeric and categorical. Numeric data\n",
    "comes in two forms: continuous, such as wind speed or time duration, and discrete,\n",
    "such as the count of the occurrence of an event. Categorical data takes only a fixed set\n",
    "of values, such as a type of TV screen (plasma, LCD, LED, etc.) or a state name (Ala‐\n",
    "bama, Alaska, etc.). Binary data is an important special case of categorical data that\n",
    "takes on only one of two values, such as 0/1, yes/no, or true/false. Another useful type\n",
    "of categorical data is ordinal data in which the categories are ordered; an example of\n",
    "this is a numerical rating (1, 2, 3, 4, or 5).\n",
    "\n",
    "### Rectangular Data\n",
    "\n",
    "The typical frame of reference for an analysis in data science is a rectangular data\n",
    "object, like a spreadsheet or database table.\n",
    "\n",
    "Rectangular data is the general term for a two-dimensional matrix with rows indicat‐\n",
    "ing records (cases) and columns indicating features (variables); data frame is the spe‐\n",
    "cific format in R and Python.\n",
    "\n",
    "#### Data frame\n",
    "Rectangular data (like a spreadsheet) is the basic data structure for statistical and\n",
    "machine learning models.\n",
    "\n",
    "### Data Frames and Indexes\n",
    "\n",
    "Traditional database tables have one or more columns designated as an index, essen‐\n",
    "tially a row number. This can vastly improve the efficiency of certain database quer‐\n",
    "ies. In Python, with the pandas library, the basic rectangular data structure is a\n",
    "DataFrame object. By default, an automatic integer index is created for a DataFrame\n",
    "based on the order of the rows. In pandas , it is also possible to set multilevel/hier‐\n",
    "archical indexes to improve the efficiency of certain operations.\n",
    "\n",
    "### Nonrectangular Data Structures\n",
    "\n",
    "There are other data structures besides rectangular data. \n",
    "- Time series data records successive measurements of the same variable.\n",
    "- Spatial data structures, which are used in mapping and location analytics, are more complex and varied than rectangular data structures.\n",
    "- Graph (or network) data structures are used to represent physical, social, and abstract relationships. For example, a graph of a social network, such as Facebook or LinkedIn, may represent connections between people on the network.\n",
    "\n",
    "### Estimates of Location\n",
    "\n",
    "#### Key Terms for Estimates of Location:\n",
    "\n",
    "- Mean: The sum of all values divided by the number of values.\n",
    "- Weighted mean: The sum of all values times a weight divided by the sum of the weights.\n",
    "- Median: The value such that one-half of the data lies above and below.\n",
    "- Percentile (Quantile): The value such that P percent of the data lies below.\n",
    "- Weighted median: The value such that one-half of the sum of the weights lies above and below the sorted data.\n",
    "- Trimmed mean: The average of all values after dropping a fixed number of extreme values.\n",
    "\n",
    "A variation of the mean is a **trimmed mean**, which you calculate by dropping a fixed number of sorted values at each end and then taking an average of the remaining values. **A trimmed mean eliminates the influence of extreme values.**\n",
    "\n",
    "Another type of mean is a **weighted mean**, which you calculate by multiplying each\n",
    "data value x i by a user-specified weight w i and dividing their sum by the sum of the\n",
    "weights.\n"
   ]
  },
  {
   "cell_type": "code",
   "execution_count": null,
   "metadata": {},
   "outputs": [],
   "source": []
  }
 ],
 "metadata": {
  "kernelspec": {
   "display_name": "Python 3",
   "language": "python",
   "name": "python3"
  },
  "language_info": {
   "codemirror_mode": {
    "name": "ipython",
    "version": 3
   },
   "file_extension": ".py",
   "mimetype": "text/x-python",
   "name": "python",
   "nbconvert_exporter": "python",
   "pygments_lexer": "ipython3",
   "version": "3.7.9"
  }
 },
 "nbformat": 4,
 "nbformat_minor": 4
}
